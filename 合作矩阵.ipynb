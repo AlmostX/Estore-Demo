{
 "cells": [
  {
   "cell_type": "code",
   "execution_count": 36,
   "metadata": {},
   "outputs": [],
   "source": [
    "year=\"2018\"\n",
    "sheetNum=2018\n",
    "\n",
    "import xlrd   #xlrd用来读excel文件\n",
    "workbook1=xlrd.open_workbook(r\"D:\\EStu\\Learn\\盛豪的data\\3\\自动驾驶汽车专利数据(逐年).xlsx\")    #打开Excel文件\n",
    "sheet1=workbook1.sheet_by_index(sheetNum-1995) #更改这里进行不同年份表的切换\n",
    "AE=sheet1.col_values(3)      #col1是原始数据中的D列（专利权人）\n",
    "\n",
    "#获取专利权人代码（去重,去除单个）\n",
    "import re\n",
    "\n",
    "lis=[]\n",
    "for i in range(2,len(AE)):\n",
    "    temp=AE[i].split(\";\")\n",
    "    for j in range(len(temp)):\n",
    "        shortName=re.findall(r'[(](.*?)[)]', temp[j])\n",
    "        temp[j]=shortName[0]\n",
    "    temp=list(set(temp))        #去重\n",
    "    newTemp=[]\n",
    "    for k in temp: #去除Non-standard & Individual\n",
    "        if(k.find(\"Non-standard\")==-1&k.find(\"Individual\")==-1):\n",
    "            newTemp.append(k)\n",
    "    \n",
    "    if(len(newTemp)>1):            #去除单个无合作的专利\n",
    "        lis.append(newTemp)\n",
    "        \n",
    "import itertools\n",
    "\n",
    "res=[]\n",
    "for i in lis:\n",
    "    cc = list(itertools.combinations(i, 2))#排列组合\n",
    "    res.append(cc)\n",
    "    \n",
    "output=[]\n",
    "for i in res:\n",
    "    for j in i:\n",
    "        strs=\"\"\n",
    "        strs=strs+j[0]+\"----\"+j[1]\n",
    "        output.append(strs)\n",
    "        \n",
    "#输出到表中\n",
    "import xlwt\n",
    "new_workbook=xlwt.Workbook()\n",
    "new_sheet=new_workbook.add_sheet(year)#改一下时间\n",
    "for i in range(len(output)):\n",
    "    new_sheet.write(i,0,output[i])\n",
    "new_workbook.save(r\"D:\\EStu\\Learn\\盛豪的data\\3\\result\\合作\\corporate-\"+year+\".xls\")#改一下输出目录"
   ]
  }
 ],
 "metadata": {
  "kernelspec": {
   "display_name": "Python 3",
   "language": "python",
   "name": "python3"
  },
  "language_info": {
   "codemirror_mode": {
    "name": "ipython",
    "version": 3
   },
   "file_extension": ".py",
   "mimetype": "text/x-python",
   "name": "python",
   "nbconvert_exporter": "python",
   "pygments_lexer": "ipython3",
   "version": "3.7.4"
  }
 },
 "nbformat": 4,
 "nbformat_minor": 2
}
